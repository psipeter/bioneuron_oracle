{
 "cells": [
  {
   "cell_type": "markdown",
   "metadata": {},
   "source": [
    "### Bioneuron Oracle Notebook\n",
    "#### Peter Duggins\n",
    "#### April 2017\n",
    "#### https://github.com/psipeter/bioneuron_oracle"
   ]
  },
  {
   "cell_type": "markdown",
   "metadata": {},
   "source": [
    "This notebook includes methods for specifying weights into an emsemble of biologically realistic neurons such that performs representation and dynamics according to the NEF. These 'bioneurons' are implemented in NEURON based off of a reduced model of a pyramidal neuron by Bahl et al (2012). It begins by defining a bioneuron class that includes the NEURON objects needed to track voltage, spikes, etc, as well as the required nengo methods to run in simulation. It then redefines some classes in the nengo builder to allow construction of bioensembles and transmission of spikes to the bioneurons' synapses. During the build, synapses are created at specified locations on the bioneurons' dendrites, and are assigned a synaptic weight that has been decomposed into encoders and decoders. Whereas previous bioneuron methods trained the enoders, this notebook seeks to distribute encoders randomly in a manner that ensures heterogeneity of bioneuron response curves, then trains decoders using NEF methods such as the least-squares solver or Aaron Voelker's Oracle. It then provides tests for the efficacy of these procedures by finding the error in the bioensemble's decoded output for various choices of encoder, decoder, and dynamical system."
   ]
  },
  {
   "cell_type": "markdown",
   "metadata": {},
   "source": [
    "### Install NEURON and other dependencies\n",
    "change --prefix to another directory. If you're using virtualenv and virtualenvwrapper, this will be your your /HOME/USER/.local/directory"
   ]
  },
  {
   "cell_type": "markdown",
   "metadata": {},
   "source": [
    "```bash\n",
    "pip install nengo matplotlib seaborn numpy pandas\n",
    "\n",
    "wget http://www.neuron.yale.edu/ftp/neuron/versions/v7.4/nrn-7.4.tar.gz\n",
    "tar xzf nrn-7.4.tar.gz\n",
    "cd nrn-7.4\n",
    "./configure --prefix=/home/pduggins/.local --without-iv --with-nrnpython\n",
    "make\n",
    "(sudo) make install\n",
    "cd src/nrnpython\n",
    "python setup.py install\n",
    "cd ../../..\n",
    "```"
   ]
  },
  {
   "cell_type": "markdown",
   "metadata": {},
   "source": [
    "### Install channel mechanisms for the bahl.hoc NEURON model\n",
    "To run the NEURON model, bahl.hoc, you must download the .hoc file and .mod files for every ion channel present in the model. These can be found in the oracle branch of my bionengo repo.\n",
    "\n",
    "Be sure to change the path to your .local directory to compile the NEURON channel mechanisms."
   ]
  },
  {
   "cell_type": "markdown",
   "metadata": {},
   "source": [
    "```bash\n",
    "git clone -b oracle https://github.com/psipeter/bioneuron_oracle.git\n",
    "cd bioneuron_oracle/NEURON_models/channels/\n",
    "/home/psipeter/.local/x86_64/bin/nrnivmodl\n",
    "```"
   ]
  },
  {
   "cell_type": "markdown",
   "metadata": {},
   "source": [
    "Once this is done, edit the first line of bahl.hoc to point NEURON towards the location of these compiled channel files."
   ]
  },
  {
   "cell_type": "markdown",
   "metadata": {},
   "source": [
    "```\n",
    "(bahl.hoc, line 1) nrn_load_dll(path/to/NEURON_models/channels)\n",
    "```"
   ]
  },
  {
   "cell_type": "markdown",
   "metadata": {},
   "source": [
    "If the python kernel crashes at some point and you get an error in the terminal that says \"NEURON: syntax error [...] insert ih\", it means that the channels weren't initialized properly."
   ]
  },
  {
   "cell_type": "markdown",
   "metadata": {
    "collapsed": true
   },
   "source": [
    "# Bioneuron Methods\n",
    "### Define bioneuron class"
   ]
  },
  {
   "cell_type": "code",
   "execution_count": null,
   "metadata": {
    "collapsed": true
   },
   "outputs": [],
   "source": [
    "%matplotlib inline\n",
    "import nengo\n",
    "import matplotlib.pyplot as plt\n",
    "import seaborn as sns\n",
    "import pandas as pd\n",
    "import numpy as np\n",
    "import neuron\n",
    "from nengo.utils.matplotlib import rasterplot\n",
    "\n",
    "neuron.h.load_file('/home/pduggins/bioneuron_oracle/NEURON_models/bahl.hoc')\n",
    "\n",
    "class BahlNeuron(nengo.neurons.NeuronType):\n",
    "    '''compartmental neuron from Bahl et al 2012'''\n",
    "\n",
    "    probeable=('spikes','voltage')\n",
    "    def __init__(self,encoders,gains,syn_locations,weights_bias,weights_bias_input='pre'):\n",
    "        super(BahlNeuron,self).__init__()\n",
    "        self.encoders=encoders\n",
    "        self.gains=gains\n",
    "        self.syn_locations=syn_locations\n",
    "        self.weights_bias=weights_bias\n",
    "        self.weights_bias_input=weights_bias_input   #label of ensemble whose weights biases are used to emulate bias\n",
    "        self.inputs={}     #stores the input decoders and calculated connection weights for each connection into bionrn\n",
    "\n",
    "    def create(self,bio_idx):\n",
    "        return self.Bahl(bio_idx,self.encoders[bio_idx],self.gains[bio_idx],syn_locations[bio_idx],weights_bias[bio_idx])\n",
    "\n",
    "    class Bahl():\n",
    "        def __init__(self,bio_idx,encoder,gain,syn_locations,weights_bias,weights_bias_input='pre'):\n",
    "            self.bio_idx=bio_idx\n",
    "            self.encoder=encoder             #single encoder for the bioneuron e_j.\n",
    "            self.gain=gain                   #single gain for the bioneuron alpha_j\n",
    "            self.syn_locations=syn_locations #locations of synapses on the dendritic tree l_ij\n",
    "            self.weights_bias=weights_bias   #values added to w_ij=dot(d_i,e_j) to account for bias\n",
    "            self.weights_bias_input=weights_bias_input   #label of ensemble whose weights biases are used to emulate bias\n",
    "            self.synapses = {}\n",
    "            self.netcons = {}\n",
    "            self.cell = neuron.h.Bahl()\n",
    "        def start_recording(self):\n",
    "            '''NEURON recording attributes'''\n",
    "            self.v_record = neuron.h.Vector()\n",
    "            self.v_record.record(self.cell.soma(0.5)._ref_v)\n",
    "            self.ap_counter = neuron.h.APCount(self.cell.soma(0.5))\n",
    "            self.t_record = neuron.h.Vector()\n",
    "            self.t_record.record(neuron.h._ref_t)\n",
    "            self.spikes = neuron.h.Vector()\n",
    "            self.ap_counter.record(neuron.h.ref(self.spikes))\n",
    "            self.spikes_last=[]\n",
    "            \n",
    "    def rates(self, x, gain, bias): #todo: remove this without errors\n",
    "        return x\n",
    "\n",
    "    def gain_bias(self, max_rates, intercepts): #todo: remove this without errors\n",
    "        return np.ones(len(max_rates)),np.ones(len(max_rates))\n",
    "\n",
    "    def step_math(self,dt,spiked,neurons,voltage,time):\n",
    "        '''run NEURON forward one nengo timestep. Compare the current and previous spike arrays\n",
    "        for this bioneuron. If they're different, the neuron has spiked, so communicate this to nengo'''\n",
    "        t_neuron=time*1000\n",
    "        neuron.run(t_neuron) \n",
    "        new_spiked=[]\n",
    "        new_voltage=[]\n",
    "        for nrn in neurons:\n",
    "            spike_times=np.array(nrn.spikes)\n",
    "            spike_times_last=np.array(nrn.spikes_last)\n",
    "            count=len(spike_times)-len(spike_times_last)\n",
    "            new_spiked.append(count)\n",
    "            volt=np.array(nrn.v_record)[-1] #fails if neuron.init() not called at right times\n",
    "            new_voltage.append(volt)\n",
    "            nrn.spikes_last=spike_times\n",
    "        spiked[:]=np.array(new_spiked)/dt\n",
    "        voltage[:]=np.array(new_voltage)"
   ]
  },
  {
   "cell_type": "code",
   "execution_count": null,
   "metadata": {
    "collapsed": true
   },
   "outputs": [],
   "source": [
    "class ExpSyn():\n",
    "    '''Conductance-based synapses. There are two types, excitatory and inhibitory, with different\n",
    "    reversal potentials. If the synaptic weight is above zero, initialize an excitatory synapse, \n",
    "    else initialize an inhibitory syanpse with the abolute value of the synaptic weight.'''\n",
    "    def __init__(self, sec, weight, tau, e_exc=0.0, e_inh=-80.0):\n",
    "        self.type = 'ExpSyn'\n",
    "        self.tau = tau\n",
    "        self.e_exc = e_exc\n",
    "        self.e_inh = e_inh\n",
    "        self.syn = neuron.h.ExpSyn(sec)\n",
    "        self.syn.tau=2*1000*self.tau #arbitrary 2x multiply to offset phase shift in bio decode\n",
    "        self.weight = weight\n",
    "        if self.weight >= 0.0: self.syn.e = self.e_exc\n",
    "        else: self.syn.e = self.e_inh\n",
    "        self.spike_in = neuron.h.NetCon(None, self.syn) #time of spike arrival assigned in nengo step\n",
    "        self.spike_in.weight[0]=abs(self.weight)"
   ]
  },
  {
   "cell_type": "markdown",
   "metadata": {},
   "source": [
    "### Nengo Operators and Builders"
   ]
  },
  {
   "cell_type": "code",
   "execution_count": null,
   "metadata": {
    "collapsed": true
   },
   "outputs": [],
   "source": [
    "from nengo.builder import Builder, Operator, Signal\n",
    "from nengo.dists import get_samples\n",
    "from nengo.builder.connection import build_decoders\n",
    "from nengo.builder.connection import BuiltConnection\n",
    "\n",
    "class SimBahlNeuron(Operator):\n",
    "    def __init__(self,neurons,n_neurons,output,voltage,states):\n",
    "        super(SimBahlNeuron,self).__init__()\n",
    "        self.neurons=neurons\n",
    "        self.neurons.father_op=self\n",
    "        self.output=output\n",
    "        self.voltage=voltage\n",
    "        self.time=states[0]\n",
    "        self.reads = [states[0]]\n",
    "        self.sets=[output,voltage]\n",
    "        self.updates=[]\n",
    "        self.incs=[]\n",
    "        self.label=None\n",
    "        self.neurons.neurons=[self.neurons.create(i) for i in range(n_neurons)]\n",
    "        self.inputs=self.neurons.inputs\n",
    "\n",
    "    def make_step(self,signals,dt,rng):\n",
    "        output=signals[self.output]\n",
    "        voltage=signals[self.voltage]\n",
    "        time=signals[self.time]\n",
    "        def step_nrn():\n",
    "            self.neurons.step_math(dt,output,self.neurons.neurons,voltage,time)\n",
    "        return step_nrn\n",
    "\n",
    "    def init_connection(self,inpt):\n",
    "        '''Given a parcicular connection (labeled by inpt=conn.pre),grab the optimal decoders\n",
    "        calculated for that connection and the number of presynapic neurons in conn.pre.\n",
    "        At each location in the specified syn_locations list, create a synapse with weight equal to\n",
    "        w_ij=np.dot(d_i,alpha_j*e_j)+w_bias, where d_i is the optimal presynaptic decoder, e_j is the single\n",
    "        bioneuron encoder specified in the encoders list, and w_bias is a weight perturbation that emulates\n",
    "        the bias in a LIF neuron. Once synapses are created and added to the bioneuron attribute .synapses, \n",
    "        initialize the NEURON recording variables and call neuron.init()'''\n",
    "        for bionrn in range(len(self.neurons.neurons)):\n",
    "            bioneuron=self.neurons.neurons[bionrn]\n",
    "            input_decoders=self.inputs[inpt]['input_decoders']\n",
    "            pre_neurons=input_decoders.shape[0]\n",
    "            bioneuron.synapses[inpt]=np.empty((pre_neurons,n_syn),dtype=object)\n",
    "            for pre in range(pre_neurons):\n",
    "                for syn in range(n_syn):\n",
    "                    decoder=input_decoders[pre]\n",
    "                    encoder=bioneuron.encoder #assumes single encoder for bioneuron\n",
    "                    gain=bioneuron.gain\n",
    "                    if inpt==bioneuron.weights_bias_input:\n",
    "                        w_bias=bioneuron.weights_bias[pre]\n",
    "                    else:\n",
    "                        w_bias=np.zeros_like(bioneuron.weights_bias[pre])\n",
    "                    location=bioneuron.syn_locations[pre][syn]\n",
    "                    section=bioneuron.cell.apical(location)\n",
    "                    weight=np.dot(decoder,gain*encoder)+w_bias\n",
    "                    self.inputs[inpt]['weights'][bionrn,pre,syn]=weight #update weight matrix for this input (debugging)\n",
    "                    synapse=ExpSyn(section,weight,tau) #create a synapse with the computed weight at this location\n",
    "                    bioneuron.synapses[inpt][pre][syn]=synapse            \n",
    "            bioneuron.start_recording() #todo - call elsewhere so it's not redundant\n",
    "        neuron.init()\n"
   ]
  },
  {
   "cell_type": "code",
   "execution_count": null,
   "metadata": {
    "collapsed": true
   },
   "outputs": [],
   "source": [
    "class TransmitSpikes(Operator):\n",
    "    '''Operator to deliver (unweighted) spikes from the presynaptic population into a bioensemble'''\n",
    "    def __init__(self,ens_pre_label,spikes,bahl_op,states):\n",
    "        self.ens_pre_label=ens_pre_label\n",
    "        self.spikes=spikes\n",
    "        self.bahl_op=bahl_op\n",
    "        self.neurons=bahl_op.neurons.neurons\n",
    "        self.time=states[0]\n",
    "        self.reads=[spikes,states[0]]\n",
    "        self.updates=[]\n",
    "        self.sets=[]\n",
    "        self.incs=[]\n",
    "    def make_step(self,signals,dt,rng):\n",
    "        spikes=signals[self.spikes]\n",
    "        time=signals[self.time]\n",
    "        def step():\n",
    "            'event-based method'\n",
    "            tback=time-dt\n",
    "            t_neuron=tback*1000\n",
    "            for n in range(spikes.shape[0]): #for each input neuron\n",
    "                my_spikes=spikes[n] #actual spikes\n",
    "                if my_spikes > 0: #if input neuron spiked\n",
    "                    for nrn in self.neurons: #for each bioneuron\n",
    "                        for syn in nrn.synapses[self.ens_pre_label][n]: #for each synapse conn. to input\n",
    "                            syn.spike_in.event(t_neuron) #add a spike at time (ms)\n",
    "        return step"
   ]
  },
  {
   "cell_type": "code",
   "execution_count": null,
   "metadata": {},
   "outputs": [],
   "source": [
    "@Builder.register(BahlNeuron)\n",
    "def build_bahlneuron(model,neuron_type,ens):\n",
    "    model.sig[ens]['voltage'] = Signal(np.zeros(ens.ensemble.n_neurons),\n",
    "                        name='%s.voltage' %ens.ensemble.label)\n",
    "    op=SimBahlNeuron(neurons=neuron_type,\n",
    "                     n_neurons=ens.ensemble.n_neurons,\n",
    "                     output=model.sig[ens]['out'],\n",
    "                     voltage=model.sig[ens]['voltage'],\n",
    "                     states=[model.time])\n",
    "    model.add_op(op)\n",
    "\n",
    "@Builder.register(nengo.Ensemble)\n",
    "def build_ensemble(model,ens):\n",
    "    nengo.builder.ensemble.build_ensemble(model,ens)\n",
    "\n",
    "@Builder.register(nengo.Connection)\n",
    "def build_connection(model,conn):\n",
    "    '''Method to build connections into bioensembles.\n",
    "    Calculates the optimal decoders for this conneciton as though the presynaptic neuron \n",
    "    was connecting to a hypothetical point neuron. These decoders are used to calculate\n",
    "    the synaptic weights in init_connection().\n",
    "    Adds a transmit_spike operator for this connection to the model\n",
    "    '''\n",
    "    use_nrn = (\n",
    "        isinstance(conn.post, nengo.Ensemble) and\n",
    "        isinstance(conn.post.neuron_type, BahlNeuron))\n",
    "    if use_nrn: #bioneuron connection\n",
    "        rng = np.random.RandomState(model.seeds[conn])\n",
    "        model.sig[conn]['in']=model.sig[conn.pre]['out']\n",
    "        transform = get_samples(conn.transform, conn.size_out, d=conn.size_mid, rng=rng)\n",
    "        eval_points, weights, solver_info = build_decoders(model, conn, rng, transform)\n",
    "        op=conn.post.neuron_type.father_op\n",
    "        op.label=conn.post.label\n",
    "        op.inputs[conn.pre.label]={'input_decoders':weights.T} #may break for bio-bio connections\n",
    "        op.inputs[conn.pre.label]['weights']=np.zeros((conn.post.n_neurons,conn.pre.n_neurons,n_syn)) #todo: n_syn\n",
    "        op.init_connection(conn.pre.label)\n",
    "        model.add_op(\n",
    "            TransmitSpikes(conn.pre_obj.label,model.sig[conn.pre]['out'],op,states=[model.time]))\n",
    "        model.params[conn] = BuiltConnection(eval_points=eval_points,\n",
    "                                             solver_info=solver_info,\n",
    "                                             transform=transform,\n",
    "                                             weights=weights)\n",
    "\n",
    "    else: #normal connection\n",
    "        return nengo.builder.connection.build_connection(model, conn)"
   ]
  },
  {
   "cell_type": "markdown",
   "metadata": {},
   "source": [
    "### Helper Functions"
   ]
  },
  {
   "cell_type": "code",
   "execution_count": null,
   "metadata": {
    "collapsed": true
   },
   "outputs": [],
   "source": [
    "from nengo.builder.ensemble import get_activities\n",
    "def decode_bias(bias, activity):\n",
    "    '''\n",
    "    From Andreas Stockel \n",
    "    Emulate biases by decoding them separately off the LIF population and adding it to the resulting connection weights\n",
    "    https://github.com/ctn-waterloo/nengo_conductance_synapses/blob/master/ifcondexp.ipynb\n",
    "    '''\n",
    "    \n",
    "    A = activity # Fetch theactivity matrix\n",
    "    m, n = A.shape  # samples, neurons\n",
    "    Y = np.tile(bias, (m, 1))  # Desired output function Y -- just repeat \"bias\" m times\n",
    "    I = np.eye(n) * ((np.max(A) * 0.1)**2) # Regularisation matrix\n",
    "    # Calculate the decoders using a least squares estimate\n",
    "    return (np.dot(np.dot(np.linalg.inv(np.dot(A.T,A)/m + I),A.T),Y).T) / m\n",
    "\n",
    "def gen_enc_gain_bias(\n",
    "                pre_neurons,\n",
    "                n_neurons,\n",
    "                tau,\n",
    "                dim,\n",
    "                n_syn,\n",
    "                dt,\n",
    "                t_final,\n",
    "                pre_seed,\n",
    "                bio_seed,\n",
    "                input_type='prime_sinusoids',\n",
    "                n_eval_points=10):\n",
    "    \n",
    "    '''\n",
    "    Build a pre-simulation network to draw encoders, gains, and biases from Nengo,\n",
    "    scale them, and return a weight matrix that emulates the bias\n",
    "    (by adding weights to the synaptic weights in init_connection()\n",
    "    '''\n",
    "    \n",
    "    with nengo.Network(label='preliminary') as pre_model:\n",
    "        if input_type == 'prime_sinusoids':\n",
    "            stim = nengo.Node(lambda t: prime_sinusoids(t,dim,t_final))\n",
    "        elif input_type == 'step_input':\n",
    "            stim = nengo.Node(lambda t: step_input(t,dim,t_final,dt,n_eval_points))\n",
    "        pre=nengo.Ensemble(n_neurons=pre_neurons,dimensions=dim,label='pre',seed=pre_seed)\n",
    "        lif=nengo.Ensemble(n_neurons=n_neurons,dimensions=dim,neuron_type=nengo.LIF(),label='lif',seed=bio_seed)\n",
    "        post=nengo.Ensemble(n_neurons=pre_neurons,dimensions=dim,seed=9,label='post')\n",
    "        conn_stim_to_pre=nengo.Connection(stim,pre,synapse=None)\n",
    "        conn_pre_to_lif=nengo.Connection(pre,lif,synapse=tau)\n",
    "        conn_lif_to_post=nengo.Connection(lif,post,synapse=tau)\n",
    "    with nengo.Simulator(pre_model,dt=dt) as pre_sim:\n",
    "        pre_activities = get_activities(pre_sim.data[pre], pre, pre_sim.data[pre].eval_points)\n",
    "        encoders=pre_sim.data[lif].encoders\n",
    "        pre_decoders=pre_sim.data[conn_pre_to_lif].weights.T\n",
    "        biases=pre_sim.data[lif].bias\n",
    "        gains=pre_sim.data[lif].gain\n",
    "        lif_decoders=pre_sim.data[conn_lif_to_post].weights.T\n",
    "    weights_bias = decode_bias(biases,pre_activities)\n",
    "    return encoders, gains, weights_bias\n",
    "\n",
    "def delete_bioneurons(bioensemble):\n",
    "    '''NEURON garbage collection, so that successive model initializations don't accumulate NEURON objects'''\n",
    "    for bioneuron in bioensemble.neuron_type.father_op.neurons.neurons:\n",
    "        del bioneuron"
   ]
  },
  {
   "cell_type": "markdown",
   "metadata": {},
   "source": [
    "### Stimuli"
   ]
  },
  {
   "cell_type": "code",
   "execution_count": null,
   "metadata": {
    "collapsed": true
   },
   "outputs": [],
   "source": [
    "def prime_sinusoids(t,dim,t_final):\n",
    "    primes=[2, 3, 5, 7, 11, 13, 17, 19, 23, 29, 31, 37, 41, 43, 47, 53, 59, 61, 67, 71, 73, 79, 83, 89, 97, 101,\n",
    "            103, 107, 109, 113, 127, 131, 137, 139, 149, 151, 157, 163, 167, 173, 179, 181, 191, 193, 197, 199]\n",
    "    our_primes=primes[:dim]\n",
    "    t_per_dim=t_final/dim\n",
    "    epoch=int(t/t_per_dim)\n",
    "    reordered_primes=[our_primes[(p + epoch) % len(our_primes)] for p in range(len(our_primes))]\n",
    "    frequencies=np.pi*np.array(reordered_primes)\n",
    "    values = np.array([np.sin(w*t) for w in frequencies])\n",
    "    return values"
   ]
  },
  {
   "cell_type": "code",
   "execution_count": null,
   "metadata": {},
   "outputs": [],
   "source": [
    "prime_sinusoids(np.pi/2,3,2*np.pi)"
   ]
  },
  {
   "cell_type": "code",
   "execution_count": null,
   "metadata": {
    "collapsed": true
   },
   "outputs": [],
   "source": [
    "# with nengo.Network() as eval_model:\n",
    "#     ens=nengo.Ensemble(1,2,n_eval_points=10)\n",
    "# with nengo.Simulator(eval_model) as sim:\n",
    "#     print sim.data[ens].eval_points"
   ]
  },
  {
   "cell_type": "code",
   "execution_count": null,
   "metadata": {
    "collapsed": true
   },
   "outputs": [],
   "source": [
    "def step_input(t,dim,t_final,dt,n_eval_points):\n",
    "\n",
    "    '''\n",
    "    Creates an (dim x n_eval_points) array where each row contains a uniform tiling from -1 to 1.\n",
    "    To sample the dim-dimensional space, take every combination of values in this array.\n",
    "    To do this, assume that each value is played for t_per_value time, and begin by taking\n",
    "    eval_points[d,0] for each dimension. Then leave all but 1 dimension the same, and take\n",
    "    eval_points[dim,1] from that dimension. Repeat until all values of the d_last dimesion are sampled.\n",
    "    Then take eval_points[d,0] for d=0...dim-1, eval_points[dim-1,1] for the 2nd to last dimension,\n",
    "    and repeat recursively up the array.\n",
    "    \n",
    "    Example, where 0 is the top dimension and 2 is the deepest dimension:\n",
    "        t_idx=int(t/dt)\n",
    "        dim_2=int(t_idx/t_per_val)%n_eval_points\n",
    "        dim_1=int(t_idx/t_per_val/n_eval_points)%n_eval_points\n",
    "        dim_0=int(t_idx/t_per_val/(n_eval_points**2))%n_eval_points\n",
    "        return [eval_points[0,dim_0],eval_points[1,dim_1],eval_points[2,dim_2]]\n",
    "    \n",
    "    n_eval_points: number of evaluation points to sample for each dimension\n",
    "    '''\n",
    "    n_vals=n_eval_points**dim\n",
    "    n_times=int(t_final/dt)\n",
    "    assert n_vals < n_times, \"must be at least one timestep per constant value\"\n",
    "    t_per_val=int(n_times/n_vals)\n",
    "    x_vals=np.linspace(-1,1,n_eval_points)\n",
    "    eval_points=np.zeros((dim,n_eval_points))\n",
    "    for d in range(dim):\n",
    "        eval_points[d]=x_vals\n",
    "\n",
    "    def get_eval_point(t,eval_points):\n",
    "        t_idx=int(t/dt)\n",
    "        idxs=np.zeros((dim)).astype(int)\n",
    "        for d in range(dim):\n",
    "            idxs[d]=int(t_idx / t_per_val / (n_eval_points ** d)) % n_eval_points\n",
    "        return [eval_points[d,idxs[d]] for d in range(dim)]\n",
    "\n",
    "    return np.array(get_eval_point(t,eval_points))"
   ]
  },
  {
   "cell_type": "code",
   "execution_count": null,
   "metadata": {},
   "outputs": [],
   "source": [
    "step_input(t=0.123,dim=2,t_final=1.0,dt=0.001,n_eval_points=10)"
   ]
  },
  {
   "cell_type": "markdown",
   "metadata": {},
   "source": [
    "### Simulation and Plotting"
   ]
  },
  {
   "cell_type": "code",
   "execution_count": null,
   "metadata": {
    "collapsed": true
   },
   "outputs": [],
   "source": [
    "def simulate(n_neurons,\n",
    "             tau,\n",
    "             dim,\n",
    "             n_syn,\n",
    "             dt,\n",
    "             t_final,\n",
    "             encoders,\n",
    "             gains,\n",
    "             weights_bias,\n",
    "             pre_seed,\n",
    "             bio_seed,\n",
    "             input_type,\n",
    "             n_eval_points=10,\n",
    "             decoders_bio=None,\n",
    "             plots={'spikes','voltage','decode'}):\n",
    "    '''\n",
    "    Simulate a feedforward network [stim]-[LIF]-[BIO], and compare to [stim]-[LIF]-[LIF].\n",
    "    \n",
    "    encoders: encoders for bioneurons calculated for a hypothetical LIF population in gen_enc_gain_bias()\n",
    "    weights_bias: weight additions that emulate the bias for a hypothetical LIF population in gen_enc_gain_bias()\n",
    "    bio_seed: ensemble seed for bioensemble\n",
    "    pre_seed: ensemble seed for lif emsemble\n",
    "    decoders_bio: use the output decoders for [BIO]-[probe] from a previous simulation rather than\n",
    "                    calculating them again using nengo.solver.LstsqL2()\n",
    "    '''\n",
    "    with nengo.Network() as model:\n",
    "        if input_type == 'prime_sinusoids':\n",
    "            stim = nengo.Node(lambda t: prime_sinusoids(t,dim,t_final))\n",
    "        elif input_type == 'step_input':\n",
    "            stim = nengo.Node(lambda t: step_input(t,dim,t_final,dt,n_eval_points))\n",
    "        pre=nengo.Ensemble(n_neurons=100,dimensions=dim,label='pre',seed=pre_seed)\n",
    "        bio=nengo.Ensemble(n_neurons=n_neurons,dimensions=dim,label='bio',seed=bio_seed,\n",
    "                           neuron_type=BahlNeuron(encoders,gains,syn_locations,weights_bias))\n",
    "        lif=nengo.Ensemble(n_neurons=n_neurons,dimensions=dim,neuron_type=nengo.LIF(),label='lif')\n",
    "        direct=nengo.Ensemble(n_neurons=1,dimensions=dim,neuron_type=nengo.Direct(),label='direct')\n",
    "\n",
    "        nengo.Connection(stim,pre,synapse=None)\n",
    "        nengo.Connection(pre,bio,synapse=tau)\n",
    "        nengo.Connection(pre,lif,synapse=tau)\n",
    "        nengo.Connection(stim,direct,synapse=tau)\n",
    "\n",
    "        probe_stim=nengo.Probe(stim,synapse=None)\n",
    "        probe_pre=nengo.Probe(pre,synapse=tau)\n",
    "        probe_lif=nengo.Probe(lif,synapse=tau)\n",
    "        probe_direct=nengo.Probe(direct,synapse=tau)\n",
    "        probe_pre_spikes=nengo.Probe(pre.neurons,'spikes')\n",
    "        probe_bio_spikes=nengo.Probe(bio.neurons,'spikes')\n",
    "        probe_lif_spikes=nengo.Probe(lif.neurons,'spikes')\n",
    "        \n",
    "    with nengo.Simulator(model,dt=dt) as sim:\n",
    "        sim.run(t_final)\n",
    "        \n",
    "    '''make sick plotz'''\n",
    "    sns.set(context='poster')\n",
    "\n",
    "    if 'spikes' in plots:\n",
    "        '''spike raster for PRE, BIO and comparison LIF ensembles'''\n",
    "        figure, (ax1,ax2,ax3) = plt.subplots(3,1,sharex=True)\n",
    "        rasterplot(sim.trange(),sim.data[probe_pre_spikes],ax=ax1,use_eventplot=True)\n",
    "        ax1.set(ylabel='pre',yticks=([]))\n",
    "        rasterplot(sim.trange(),sim.data[probe_bio_spikes],ax=ax2,use_eventplot=True)\n",
    "        ax2.set(ylabel='bioneuron',yticks=([]))\n",
    "        rasterplot(sim.trange(),sim.data[probe_lif_spikes],ax=ax3,use_eventplot=True)\n",
    "        ax3.set(xlabel='time (s)',ylabel='lif') #,yticks=([])\n",
    "\n",
    "    if 'voltage' in plots:\n",
    "        '''voltage trace for a specific bioneuron'''\n",
    "        figure2,ax3=plt.subplots(1,1,sharex=True)\n",
    "        bio_idx=0\n",
    "        neuron=bio.neuron_type.father_op.neurons.neurons[bio_idx]\n",
    "        ax3.plot(dt*np.arange(0,len(np.array(neuron.v_record))),np.array(neuron.v_record))\n",
    "        ax3.set(xlabel='time (ms)', ylabel='Voltage (mV)')\n",
    "\n",
    "    if 'decode' in plots:\n",
    "        '''decoded output of bioensemble'''\n",
    "        figure3,ax4=plt.subplots(1,1,sharex=True)\n",
    "        lpf = nengo.Lowpass(tau)\n",
    "        solver = nengo.solvers.LstsqL2(reg=0.01)\n",
    "        if decoders_bio==None:\n",
    "            decoders_bio, info = solver(\n",
    "                                    lpf.filt(sim.data[probe_bio_spikes], dt=dt),\n",
    "                                    lpf.filt(sim.data[probe_pre], dt=dt)) #one filter on target\n",
    "                                    # lpf.filt(lpf.filt(sim.data[probe_pre], dt=P['dt_nengo']), dt=P['dt_nengo']))\n",
    "        A_bio=lpf.filt(sim.data[probe_bio_spikes], dt=dt)\n",
    "        xhat_bio=np.dot(A_bio,decoders_bio)\n",
    "        rmse_bio=np.sqrt(np.average((sim.data[probe_direct]-xhat_bio)**2))\n",
    "        rmse_lif=np.sqrt(np.average((sim.data[probe_direct]-sim.data[probe_lif])**2))\n",
    "        ax4.plot(sim.trange(),xhat_bio,label='bio, rmse=%.5f'%rmse_bio)\n",
    "        ax4.plot(sim.trange(),sim.data[probe_lif],label='lif, rmse=%.5f'%rmse_lif)\n",
    "        ax4.plot(sim.trange(),sim.data[probe_direct],label='direct')\n",
    "        ax4.set(ylabel='$\\hat{x}(t)$')#,ylim=((ymin,ymax)))\n",
    "        legend3=ax4.legend() #prop={'size':8}\n",
    "    \n",
    "    delete_bioneurons(bio)\n",
    "    return decoders_bio"
   ]
  },
  {
   "cell_type": "markdown",
   "metadata": {
    "collapsed": true
   },
   "source": [
    "# Testing Gains, Biases, and Decoders"
   ]
  },
  {
   "cell_type": "code",
   "execution_count": null,
   "metadata": {},
   "outputs": [],
   "source": [
    "pre_neurons=100\n",
    "n_neurons=50\n",
    "tau=0.01\n",
    "dim=1\n",
    "n_syn=1\n",
    "dt=0.001\n",
    "t_final=1.0\n",
    "pre_seed=3\n",
    "bio_seed=6\n",
    "\n",
    "#generate synaptic locations for each neuron\n",
    "rng=np.random.RandomState(seed=333)\n",
    "syn_locations=np.array([rng.uniform(0,1,size=(pre_neurons,n_syn)) for n in range(n_neurons)])"
   ]
  },
  {
   "cell_type": "markdown",
   "metadata": {},
   "source": [
    "## No gains, no biases\n",
    "Simplest setup - single encoder per neuron, one synapse, gains and biases not accounted for, synaptic locations identical for every bioneuron (still a unique location for every synapse on the dendrite)"
   ]
  },
  {
   "cell_type": "code",
   "execution_count": null,
   "metadata": {},
   "outputs": [],
   "source": [
    "encoders, gains, weights_bias = gen_enc_gain_bias(pre_neurons,n_neurons,tau,dim,n_syn,dt,t_final,pre_seed,bio_seed,'prime_sinusoids')\n",
    "\n",
    "gains=np.ones(gains.shape) #ignore gains\n",
    "weights_bias=np.zeros((weights_bias.shape)) #ignore biases\n",
    "\n",
    "#save decoders for [BIO]-[probe] for later\n",
    "decoders_bio_1=simulate(n_neurons,tau,dim,n_syn,dt,t_final,encoders,gains,weights_bias,pre_seed,bio_seed,'prime_sinusoids')"
   ]
  },
  {
   "cell_type": "markdown",
   "metadata": {},
   "source": [
    "As shown in the spike plot, there isn't yet much heterogeneity in the bioneuron responses."
   ]
  },
  {
   "cell_type": "markdown",
   "metadata": {},
   "source": [
    "## Gains, no biases\n",
    "Now let's have gains multiply encoders, but keep biases set to zero."
   ]
  },
  {
   "cell_type": "code",
   "execution_count": null,
   "metadata": {},
   "outputs": [],
   "source": [
    "encoders, gains, weights_bias = gen_enc_gain_bias(\n",
    "    pre_neurons,n_neurons,tau,dim,n_syn,dt,t_final,pre_seed,bio_seed,'prime_sinusoids')\n",
    "\n",
    "weights_bias=np.zeros((weights_bias.shape))\n",
    "\n",
    "decoders_bio_2=simulate(\n",
    "    n_neurons,tau,dim,n_syn,dt,t_final,encoders,gains,weights_bias,pre_seed,bio_seed,'prime_sinusoids')"
   ]
  },
  {
   "cell_type": "markdown",
   "metadata": {},
   "source": [
    "That's a much more diverse response, and a good decoding."
   ]
  },
  {
   "cell_type": "markdown",
   "metadata": {},
   "source": [
    "## Gains and Biases\n",
    "Now let's add in the biases by emulating them using Andreas' method."
   ]
  },
  {
   "cell_type": "code",
   "execution_count": null,
   "metadata": {},
   "outputs": [],
   "source": [
    "encoders, gains, weights_bias = gen_enc_gain_bias(\n",
    "    pre_neurons,n_neurons,tau,dim,n_syn,dt,t_final,pre_seed,bio_seed,'prime_sinusoids')\n",
    "\n",
    "decoders_bio_3=simulate(\n",
    "    n_neurons,tau,dim,n_syn,dt,t_final,encoders,gains,weights_bias,pre_seed,bio_seed,'prime_sinusoids')"
   ]
  },
  {
   "cell_type": "markdown",
   "metadata": {},
   "source": [
    "Looks like adding bias increased the diversity of the bioneuron responses, which further increased the accuracy of the decoding."
   ]
  },
  {
   "cell_type": "markdown",
   "metadata": {},
   "source": [
    "## Random decoders\n",
    "\n",
    "Now let's try and disrupt the decoding by repeating the simulation with a new seed for the pre_LIF population, and hence calculating new [pre]-[lif] weights and weights_bias, but using the same encoders and gains, but using RANDOM decoders. The scale of these decoders will be set by those calculated with the least squares solver in the previous experiment."
   ]
  },
  {
   "cell_type": "code",
   "execution_count": null,
   "metadata": {},
   "outputs": [],
   "source": [
    "pre_seed=1\n",
    "\n",
    "encoders, gains, weights_bias = gen_enc_gain_bias(pre_neurons,n_neurons,tau,dim,n_syn,dt,t_final,pre_seed,bio_seed,'prime_sinusoids')\n",
    "\n",
    "random_decoders=rng.uniform(np.min(decoders_bio_3),np.max(decoders_bio_3),size=decoders_bio_3.shape)\n",
    "\n",
    "junk=simulate(n_neurons,tau,dim,n_syn,dt,t_final,encoders,gains,weights_bias,\n",
    "              pre_seed,bio_seed,'prime_sinusoids',random_decoders,plots={'decode'})"
   ]
  },
  {
   "cell_type": "markdown",
   "metadata": {},
   "source": [
    "Random decoders are pretty bad, but since the bioneuron activities are still correlated with the sinusoidal signal, the decoded output still has a sinusoidal shape."
   ]
  },
  {
   "cell_type": "markdown",
   "metadata": {},
   "source": [
    "## Previously computed decoders\n",
    "Now let's try using the [bio]-[probe] decoders calculated in the \"Gains and Biases\" experiment"
   ]
  },
  {
   "cell_type": "code",
   "execution_count": null,
   "metadata": {},
   "outputs": [],
   "source": [
    "encoders, gains, weights_bias = gen_enc_gain_bias(\n",
    "    pre_neurons,n_neurons,tau,dim,n_syn,dt,t_final,pre_seed,bio_seed,'prime_sinusoids')\n",
    "\n",
    "decoders_bio_5=simulate(\n",
    "    n_neurons,tau,dim,n_syn,dt,t_final,encoders,gains,weights_bias,\n",
    "    pre_seed,bio_seed,'prime_sinusoids',decoders_bio_3,plots={'decode'})"
   ]
  },
  {
   "cell_type": "markdown",
   "metadata": {},
   "source": [
    "Very accurate decoding! This is promising evidence for the idea that the bioneuron responses might be identical for similar state-space inputs, even if the presynaptic spike trains are different.\n",
    "\n",
    "As a quick check, use a new weight_bias to make sure that decode_bias() isn't abusing its knowledge of pre_activity. "
   ]
  },
  {
   "cell_type": "code",
   "execution_count": null,
   "metadata": {},
   "outputs": [],
   "source": [
    "pre_seed=2\n",
    "encoders, gains, weights_bias = gen_enc_gain_bias(\n",
    "    pre_neurons,n_neurons,tau,dim,n_syn,dt,t_final,pre_seed,bio_seed,'prime_sinusoids')\n",
    "\n",
    "pre_seed=1\n",
    "decoders_bio_5=simulate(\n",
    "    n_neurons,tau,dim,n_syn,dt,t_final,encoders,gains,weights_bias,\n",
    "    pre_seed,bio_seed,'prime_sinusoids',decoders_bio_3,plots={'decode'})"
   ]
  },
  {
   "cell_type": "markdown",
   "metadata": {},
   "source": [
    "I think this just demonstrates that if you try to emulate bias by calculating weights_bias off of a specific pre_LIF ensemble, then at test-time you use a different pre_LIF ensemble but add weights_bias to the computed weights nonetheless, the method doesn't work. This simulation does worse than the \"gains, no bias\" experiment."
   ]
  },
  {
   "cell_type": "markdown",
   "metadata": {},
   "source": [
    "## Multiple dimensions"
   ]
  },
  {
   "cell_type": "code",
   "execution_count": null,
   "metadata": {},
   "outputs": [],
   "source": [
    "pre_seed=3\n",
    "bio_seed=6\n",
    "dim=2\n",
    "t_final=1.0\n",
    "\n",
    "encoders, gains, weights_bias = gen_enc_gain_bias(\n",
    "    pre_neurons,n_neurons,tau,dim,n_syn,dt,t_final,pre_seed,bio_seed,'prime_sinusoids')\n",
    "junk=simulate(\n",
    "    n_neurons,tau,dim,n_syn,dt,t_final,encoders,gains,weights_bias,pre_seed,bio_seed,'prime_sinusoids')"
   ]
  },
  {
   "cell_type": "markdown",
   "metadata": {},
   "source": [
    "Now try using the step_input function for the input stimulus"
   ]
  },
  {
   "cell_type": "code",
   "execution_count": null,
   "metadata": {},
   "outputs": [],
   "source": [
    "n_neurons=5\n",
    "dim=2\n",
    "t_final=10.0\n",
    "n_eval_points=3\n",
    "\n",
    "encoders, gains, weights_bias = gen_enc_gain_bias(\n",
    "    pre_neurons,n_neurons,tau,dim,n_syn,dt,t_final,pre_seed,bio_seed,'step_input',n_eval_points)\n",
    "junk=simulate(\n",
    "    n_neurons,tau,dim,n_syn,dt,t_final,encoders,gains,weights_bias,pre_seed,bio_seed,'step_input',n_eval_points)"
   ]
  },
  {
   "cell_type": "markdown",
   "metadata": {},
   "source": [
    "## Multiple inputs"
   ]
  },
  {
   "cell_type": "code",
   "execution_count": null,
   "metadata": {
    "collapsed": true
   },
   "outputs": [],
   "source": [
    "def sim_two_inputs(n_neurons,\n",
    "             tau,\n",
    "             dim,\n",
    "             n_syn,\n",
    "             dt,\n",
    "             t_final,\n",
    "             encoders,\n",
    "             gains,\n",
    "             weights_bias,\n",
    "             pre1_seed,\n",
    "             pre2_seed,\n",
    "             bio_seed,\n",
    "             n_eval_points=10,\n",
    "             decoders_bio=None,\n",
    "             plots={'decode'}):\n",
    "    '''\n",
    "    Simulate a feedforward network [stim]-([LIF1],[LIF2])-[BIO], and compare to [stim]-([LIF1],[LIF2])-[LIF].\n",
    "    \n",
    "    encoders: encoders for bioneurons calculated for a hypothetical LIF population in gen_enc_gain_bias()\n",
    "    weights_bias: weight additions that emulate the bias for a hypothetical LIF population in gen_enc_gain_bias()\n",
    "    bio_seed: ensemble seed for bioensemble\n",
    "    pre_seed: ensemble seed for lif emsemble\n",
    "    decoders_bio: use the output decoders for [BIO]-[probe] from a previous simulation rather than\n",
    "                    calculating them again using nengo.solver.LstsqL2()\n",
    "    '''\n",
    "    with nengo.Network() as model:\n",
    "        stim1 = nengo.Node(lambda t: 0.5*prime_sinusoids(t,dim,t_final))\n",
    "        stim2 = nengo.Node(lambda t: 0.5*step_input(t,dim,t_final,dt,n_eval_points))\n",
    "        pre1=nengo.Ensemble(n_neurons=100,dimensions=dim,label='pre1',seed=pre1_seed)\n",
    "        pre2=nengo.Ensemble(n_neurons=100,dimensions=dim,label='pre2',seed=pre2_seed)\n",
    "        bio=nengo.Ensemble(n_neurons=n_neurons,dimensions=dim,label='bio',seed=bio_seed,\n",
    "                           neuron_type=BahlNeuron(encoders,gains,syn_locations,weights_bias,'pre1'))\n",
    "        lif=nengo.Ensemble(n_neurons=n_neurons,dimensions=dim,neuron_type=nengo.LIF(),label='lif')\n",
    "        direct=nengo.Ensemble(n_neurons=1,dimensions=dim,neuron_type=nengo.Direct(),label='direct')\n",
    "\n",
    "        nengo.Connection(stim1,pre1,synapse=None)\n",
    "        nengo.Connection(stim2,pre2,synapse=None)\n",
    "        nengo.Connection(pre1,bio,synapse=tau)\n",
    "        nengo.Connection(pre2,bio,synapse=tau)\n",
    "        nengo.Connection(pre1,lif,synapse=tau)\n",
    "        nengo.Connection(pre2,lif,synapse=tau)\n",
    "        nengo.Connection(stim1,direct,synapse=tau)\n",
    "        nengo.Connection(stim2,direct,synapse=tau)\n",
    "\n",
    "        probe_stim1=nengo.Probe(stim1,synapse=None)\n",
    "        probe_stim2=nengo.Probe(stim2,synapse=None)\n",
    "        probe_pre1=nengo.Probe(pre1,synapse=tau)\n",
    "        probe_pre2=nengo.Probe(pre2,synapse=tau)\n",
    "        probe_lif=nengo.Probe(lif,synapse=tau)\n",
    "        probe_direct=nengo.Probe(direct,synapse=tau)\n",
    "        probe_pre1_spikes=nengo.Probe(pre1.neurons,'spikes')\n",
    "        probe_pre2_spikes=nengo.Probe(pre2.neurons,'spikes')\n",
    "        probe_bio_spikes=nengo.Probe(bio.neurons,'spikes')\n",
    "        probe_lif_spikes=nengo.Probe(lif.neurons,'spikes')\n",
    "        \n",
    "    with nengo.Simulator(model,dt=dt) as sim:\n",
    "        sim.run(t_final)\n",
    "        \n",
    "    '''make sick plotz'''\n",
    "    sns.set(context='poster')\n",
    "\n",
    "    if 'spikes' in plots:\n",
    "        '''spike raster for BIO and comparison LIF ensembles'''\n",
    "        figure, (ax2,ax3) = plt.subplots(2,1,sharex=True)\n",
    "        rasterplot(sim.trange(),sim.data[probe_bio_spikes],ax=ax2,use_eventplot=True)\n",
    "        ax2.set(ylabel='bioneuron',yticks=([]))\n",
    "        rasterplot(sim.trange(),sim.data[probe_lif_spikes],ax=ax3,use_eventplot=True)\n",
    "        ax3.set(xlabel='time (s)',ylabel='lif') #,yticks=([])\n",
    "\n",
    "    if 'decode' in plots:\n",
    "        '''decoded output of bioensemble'''\n",
    "        figure3,ax4=plt.subplots(1,1,sharex=True)\n",
    "        lpf = nengo.Lowpass(tau)\n",
    "        solver = nengo.solvers.LstsqL2(reg=0.01)\n",
    "        if decoders_bio==None:\n",
    "            decoders_bio, info = solver(\n",
    "                                    lpf.filt(sim.data[probe_bio_spikes], dt=dt),\n",
    "                                    lpf.filt(sim.data[probe_pre1], dt=dt) + lpf.filt(sim.data[probe_pre2], dt=dt))\n",
    "        A_bio=lpf.filt(sim.data[probe_bio_spikes], dt=dt)\n",
    "        xhat_bio=np.dot(A_bio,decoders_bio)\n",
    "        rmse_bio=np.sqrt(np.average((sim.data[probe_direct]-xhat_bio)**2))\n",
    "        rmse_lif=np.sqrt(np.average((sim.data[probe_direct]-sim.data[probe_lif])**2))\n",
    "        ax4.plot(sim.trange(),xhat_bio,label='bio, rmse=%.5f'%rmse_bio)\n",
    "        ax4.plot(sim.trange(),sim.data[probe_lif],label='lif, rmse=%.5f'%rmse_lif)\n",
    "        ax4.plot(sim.trange(),sim.data[probe_direct],label='direct')\n",
    "        ax4.set(ylabel='$\\hat{x}(t)$')#,ylim=((ymin,ymax)))\n",
    "        legend3=ax4.legend() #prop={'size':8}\n",
    "    \n",
    "    delete_bioneurons(bio)\n",
    "    return decoders_bio"
   ]
  },
  {
   "cell_type": "code",
   "execution_count": null,
   "metadata": {},
   "outputs": [],
   "source": [
    "pre_neurons=100\n",
    "n_neurons=50\n",
    "tau=0.01\n",
    "dim=1\n",
    "n_syn=1\n",
    "dt=0.001\n",
    "t_final=1.0\n",
    "pre1_seed=3\n",
    "pre2_seed=9\n",
    "bio_seed=6\n",
    "rng=np.random.RandomState(seed=333)\n",
    "syn_locations=np.array([rng.uniform(0,1,size=(pre_neurons,n_syn)) for n in range(n_neurons)])\n",
    "\n",
    "encoders, gains, weights_bias = gen_enc_gain_bias(\n",
    "    pre_neurons,n_neurons,tau,dim,n_syn,dt,t_final,pre_seed,bio_seed,'prime_sinusoids')\n",
    "\n",
    "decoders_bio_two_inputs=sim_two_inputs(n_neurons,\n",
    "                                         tau,\n",
    "                                         dim,\n",
    "                                         n_syn,\n",
    "                                         dt,\n",
    "                                         t_final,\n",
    "                                         encoders,\n",
    "                                         gains,\n",
    "                                         weights_bias,\n",
    "                                         pre1_seed,\n",
    "                                         pre2_seed,\n",
    "                                         bio_seed,\n",
    "                                         n_eval_points=10,\n",
    "                                         decoders_bio=None,\n",
    "                                         plots={'decode'})"
   ]
  },
  {
   "cell_type": "markdown",
   "metadata": {},
   "source": [
    "### Multiple inputs, multiple dimensions"
   ]
  },
  {
   "cell_type": "code",
   "execution_count": null,
   "metadata": {},
   "outputs": [],
   "source": [
    "dim=2\n",
    "t_final=2.0\n",
    "\n",
    "encoders, gains, weights_bias = gen_enc_gain_bias(\n",
    "    pre_neurons,n_neurons,tau,dim,n_syn,dt,t_final,pre_seed,bio_seed,'prime_sinusoids')\n",
    "\n",
    "decoders_bio_two_inputs=sim_two_inputs(n_neurons,\n",
    "                                         tau,\n",
    "                                         dim,\n",
    "                                         n_syn,\n",
    "                                         dt,\n",
    "                                         t_final,\n",
    "                                         encoders,\n",
    "                                         gains,\n",
    "                                         weights_bias,\n",
    "                                         pre1_seed,\n",
    "                                         pre2_seed,\n",
    "                                         bio_seed,\n",
    "                                         n_eval_points=10,\n",
    "                                         decoders_bio=None,\n",
    "                                         plots={'decode'})"
   ]
  },
  {
   "cell_type": "markdown",
   "metadata": {},
   "source": [
    "What a wonky signal..."
   ]
  },
  {
   "cell_type": "markdown",
   "metadata": {},
   "source": [
    "### Multiple inputs, multiple dimensions, new pre LIF seeds but old decoders"
   ]
  },
  {
   "cell_type": "code",
   "execution_count": null,
   "metadata": {},
   "outputs": [],
   "source": [
    "pre1_seed=11\n",
    "pre2_seed=22\n",
    "\n",
    "encoders, gains, weights_bias = gen_enc_gain_bias(\n",
    "    pre_neurons,n_neurons,tau,dim,n_syn,dt,t_final,pre1_seed,bio_seed,'prime_sinusoids')\n",
    "\n",
    "junk=sim_two_inputs(n_neurons,tau,dim,n_syn,dt,t_final,encoders,\n",
    "                        gains,weights_bias,pre1_seed,pre2_seed,bio_seed,n_eval_points=10,\n",
    "                        decoders_bio=decoders_bio_two_inputs,plots={'decode'})"
   ]
  },
  {
   "cell_type": "markdown",
   "metadata": {},
   "source": [
    "# Tuning Curve Unit Test"
   ]
  },
  {
   "cell_type": "code",
   "execution_count": null,
   "metadata": {
    "collapsed": true
   },
   "outputs": [],
   "source": [
    "def tuning_curve_delta_rates(n_neurons,\n",
    "                                tau,\n",
    "                                dim,\n",
    "                                n_syn,\n",
    "                                dt,\n",
    "                                encoders,\n",
    "                                gains,\n",
    "                                syn_locations,\n",
    "                                weights_bias,\n",
    "                                pre_seed,\n",
    "                                bio_seed,\n",
    "                                input_type,\n",
    "                                n_eval_points=10,\n",
    "                                decoders_bio=None,\n",
    "                                plots={'tuning_bio'}):\n",
    "    \n",
    "    '''\n",
    "    Simulates a [stim]-[LIF]-[BIO] network with an input U(t) that covers the state space,\n",
    "    gathers the bioneurons' activities, and associates them with U(t) to produce tuning curves.\n",
    "    \n",
    "    input_type: a 'prime_sinusoid or 'step_input' signal for for each dimension\n",
    "    decoders_bio: load in previously computed decoders out of [BIO] that will be used to find x_hat\n",
    "    plots: dictionary of strings relating which plots to draw\n",
    "    '''\n",
    "\n",
    "    with nengo.Network() as model:\n",
    "        if input_type == 'prime_sinusoids':\n",
    "            stim = nengo.Node(lambda t: prime_sinusoids(t,dim,t_final))\n",
    "        elif input_type == 'step_input':\n",
    "            stim = nengo.Node(lambda t: step_input(t,dim,t_final,dt,n_eval_points))\n",
    "        pre=nengo.Ensemble(n_neurons=100,dimensions=dim,label='pre',seed=pre_seed)\n",
    "        bio=nengo.Ensemble(n_neurons=n_neurons,dimensions=dim,label='bio',seed=bio_seed,\n",
    "                           neuron_type=BahlNeuron(encoders,gains,syn_locations,weights_bias))\n",
    "        lif=nengo.Ensemble(n_neurons=n_neurons,dimensions=dim,neuron_type=nengo.LIF(),label='lif')\n",
    "        direct=nengo.Ensemble(n_neurons=1,dimensions=dim,neuron_type=nengo.Direct(),label='direct')\n",
    "\n",
    "        nengo.Connection(stim,pre,synapse=None)\n",
    "        nengo.Connection(pre,bio,synapse=tau)\n",
    "        nengo.Connection(pre,lif,synapse=tau)\n",
    "        nengo.Connection(stim,direct,synapse=tau)\n",
    "\n",
    "        probe_stim=nengo.Probe(stim,synapse=None)\n",
    "        probe_pre=nengo.Probe(pre,synapse=tau)\n",
    "        probe_lif=nengo.Probe(lif,synapse=tau)\n",
    "        probe_direct=nengo.Probe(direct,synapse=tau)\n",
    "        probe_pre_spikes=nengo.Probe(pre.neurons,'spikes')\n",
    "        probe_bio_spikes=nengo.Probe(bio.neurons,'spikes')\n",
    "        probe_lif_spikes=nengo.Probe(lif.neurons,'spikes')\n",
    "        \n",
    "    with nengo.Simulator(model,dt=dt) as sim:\n",
    "        sim.run(t_final)\n",
    "\n",
    "    columns=('t_idx','x_dot_e','x_dot_e_bin','t','neuron','rate_bio','rate_lif')\n",
    "    for d in range(dim):\n",
    "        columns=columns+('x_%s'%d,)\n",
    "    df=pd.DataFrame(columns=columns,index=np.arange(0,n_neurons*(sim.trange().shape[0]-1)))\n",
    "    \n",
    "    def find_nearest(array,value):\n",
    "        idx = (np.abs(array-value)).argmin()\n",
    "        return array[idx]\n",
    "        \n",
    "    lpf=nengo.Lowpass(tau)\n",
    "    delta_rates=np.zeros((n_neurons))\n",
    "    print 'Constructing Pandas Dataframe...'\n",
    "    j=0\n",
    "    for bionrn in range(n_neurons):\n",
    "        rates_bio=lpf.filt(sim.data[probe_bio_spikes][:,bionrn],dt=dt)\n",
    "        rates_lif=lpf.filt(sim.data[probe_lif_spikes][:,bionrn],dt=dt)\n",
    "        x_dot_e=np.dot(sim.data[probe_pre],encoders[bionrn])\n",
    "        delta_rates[bionrn]=np.max(rates_bio)-np.min(rates_bio)\n",
    "        x_dot_e_vals=np.linspace(np.min(x_dot_e),np.max(x_dot_e),num=n_eval_points)\n",
    "\n",
    "        for t in np.arange(1,sim.trange().shape[0]):\n",
    "            x_dot_e_bin=np.round(find_nearest(x_dot_e_vals,x_dot_e[t]),decimals=1)\n",
    "            info=[t.astype(int),x_dot_e[t],x_dot_e_bin,t*dt,str(bionrn),rates_bio[t],rates_lif[t]]\n",
    "            for d in range(dim):\n",
    "                info.append(sim.data[probe_pre][t,d])\n",
    "            df.loc[j]=info\n",
    "            j+=1\n",
    "\n",
    "    if 'stim' in plots:\n",
    "        sns.set(context='poster')\n",
    "        figure3,ax3=plt.subplots(1,1)\n",
    "        ax3.plot(sim.trange(),sim.data[probe_stim])\n",
    "        ax3.set(ylabel='stim')\n",
    "    if 'spikes' in plots:\n",
    "        figure2,ax2=plt.subplots(1,1)\n",
    "        rasterplot(sim.trange(),sim.data[probe_bio_spikes],ax=ax2,use_eventplot=True)\n",
    "        ax2.set(ylabel='bioneuron',yticks=([]))\n",
    "    if '2d_heatmap' in plots:\n",
    "        assert dim==2\n",
    "        fig_heatmap,ax_heatmap=plt.subplots(1,1)\n",
    "#         sns.jointplot('x_0','x_1',data=df,kind='kde',ax=ax_heatmap)\n",
    "        heatmap=df.query('neuron==\"1\"').pivot('x_0','x_1','rate_bio')\n",
    "        sns.heatmap(heatmap,ax=ax_heatmap)\n",
    "        ax_heatmap.set(xlabel='$x_0$',ylabel='$x_1$',title='rates_bio')\n",
    "    if 'tuning_bio' in plots:\n",
    "        figure1,ax1=plt.subplots(1,1)\n",
    "        sns.stripplot(x='x_dot_e_bin',y='rate_bio',hue='neuron',jitter=True,data=df)\n",
    "        ax1.set(xlabel='$x . e_j$',ylabel='BIO firing rate (hz)')\n",
    "    if 'tuning_lif' in plots:\n",
    "        figure4,ax4=plt.subplots(1,1)\n",
    "        sns.stripplot(x='x_dot_e_bin',y='rate_lif',hue='neuron',jitter=True,data=df)\n",
    "        ax4.set(xlabel='$x . e_j$',ylabel='LIF firing rate (hz)')\n",
    "                \n",
    "    return np.array(delta_rates),df"
   ]
  },
  {
   "cell_type": "markdown",
   "metadata": {},
   "source": [
    "While there are bioneurons whose min and max firing rate differ by less than the delta_rates_threshold, keep choosing new encoders and weights_bias for those.\n",
    "\n",
    "Measure min and max rate in response to an input signal that is either sinusoidal (each dimension has a sinusoid with prime frequencies), or step inputs (ranging from x_min to x_max in each dimension). "
   ]
  },
  {
   "cell_type": "code",
   "execution_count": null,
   "metadata": {},
   "outputs": [],
   "source": [
    "pre_neurons=100\n",
    "n_neurons=5\n",
    "tau=0.01\n",
    "dim=2\n",
    "n_syn=1\n",
    "dt=0.001\n",
    "t_final=10.0\n",
    "n_eval_points=20\n",
    "pre_seed=3\n",
    "bio_seed=6\n",
    "delta_rates_threshold=5\n",
    "rng=np.random.RandomState(seed=333)\n",
    "syn_locations=np.array([rng.uniform(0,1,size=(pre_neurons,n_syn)) for n in range(n_neurons)])\n",
    "\n",
    "\n",
    "#first guess for bioneuron parameters\n",
    "encoders, gains, weights_bias = gen_enc_gain_bias(\n",
    "    pre_neurons,n_neurons,tau,dim,n_syn,dt,t_final,pre_seed,bio_seed,'prime_sinusoids')\n",
    "\n",
    "idx_unresponsive=np.arange(0,n_neurons) #array of bio_idx that don't cross rate threshold\n",
    "while idx_unresponsive.shape[0] != 0:\n",
    "    delta_rates,df=tuning_curve_delta_rates(\n",
    "                                        n_neurons,tau,dim,n_syn,dt,\n",
    "                                        encoders,gains,syn_locations,weights_bias,\n",
    "                                        pre_seed,bio_seed,'prime_sinusoids',n_eval_points,\n",
    "                                        decoders_bio=None,plots={'tuning_bio','tuning_lif'})\n",
    "    idx_unresponsive=np.where(delta_rates<delta_rates_threshold)[0]\n",
    "    print 'delta rates:', delta_rates\n",
    "    for n in idx_unresponsive:\n",
    "        encoders[n], gains[n], weights_bias[n] = gen_enc_gain_bias(\n",
    "                    pre_neurons,1,tau,dim,n_syn,dt,t_final,rng.randint(336699),bio_seed,'prime_sinusoids')\n",
    "\n",
    "decoders_bio_6=simulate(\n",
    "    n_neurons,tau,dim,n_syn,dt,t_final,encoders,gains,weights_bias,\n",
    "    pre_seed,bio_seed,'prime_sinusoids',plots={'decode'})"
   ]
  },
  {
   "cell_type": "markdown",
   "metadata": {},
   "source": [
    "It's hard to tell with the overlap in the tuning curve plots, but the bioneuron activities seem to vary smoothly with the encoded input $x . e_j$. This indicates that similar points in the state space are being mapped onto similar bioneuron responses."
   ]
  },
  {
   "cell_type": "markdown",
   "metadata": {},
   "source": [
    "### I can't figure out how to plot the tuning curves using sns.tsplot(), or even a time series using this function"
   ]
  },
  {
   "cell_type": "code",
   "execution_count": null,
   "metadata": {},
   "outputs": [],
   "source": [
    "n_neurons=5\n",
    "dim=2\n",
    "dt=0.001\n",
    "t_final=1.0\n",
    "n_eval_points=10\n",
    "pre_seed=3\n",
    "bio_seed=6\n",
    "rng=np.random.RandomState(seed=333)\n",
    "syn_locations=np.array([rng.uniform(0,1,size=(pre_neurons,n_syn)) for n in range(n_neurons)])\n",
    "\n",
    "encoders, gains, weights_bias = gen_enc_gain_bias(\n",
    "    pre_neurons,n_neurons,tau,dim,n_syn,dt,t_final,pre_seed,bio_seed,'prime_sinusoids')\n",
    "\n",
    "delta_rates,df=tuning_curve_delta_rates(n_neurons,tau,dim,n_syn,dt,\n",
    "                                        encoders,gains,syn_locations,weights_bias,\n",
    "                                        pre_seed,bio_seed,'prime_sinusoids',n_eval_points,\n",
    "                                        decoders_bio=None,plots={'tuning_bio','tuning_lif'})"
   ]
  },
  {
   "cell_type": "code",
   "execution_count": null,
   "metadata": {},
   "outputs": [],
   "source": [
    "print df.loc[0]\n",
    "\n",
    "print (type(df.loc[0]['x_dot_e']),\n",
    "type(df.loc[0]['x_dot_e_bin']),\n",
    "type(df.loc[0]['t']),\n",
    "type(df.loc[0]['neuron']),\n",
    "type(df.loc[0]['rate_bio']),\n",
    "type(df.loc[0]['rate_lif']),\n",
    "type(df.loc[0]['x_0']),\n",
    "type(df.loc[0]['x_1']))\n",
    "\n",
    "figure1,ax1=plt.subplots(1,1)\n",
    "ax1.set(xlabel='$x . e_j$',ylabel='BIO firing rate (hz)')\n",
    "\n",
    "'''Throws unsupported operand type(s) for +: 'NoneType' and 'NoneType' '''\n",
    "# sns.tsplot(time=\"t\",value=\"rate_bio\",condition='neuron',data=df,ax=ax1) #how tsplot should be used\n",
    "# sns.tsplot(time=\"x_dot_e_bin\",value=\"rate_bio\",unit='t_idx',condition='neuron',data=df,ax=ax1)  #how I want to plot tuning curves\n",
    "\n",
    "#Matplotlib workaround\n",
    "# for bionrn in range(n_neurons):\n",
    "#     df_i=df.query('neuron==\"%s\"'%bionrn)\n",
    "#     x=df_i['x_dot_e_bin']\n",
    "#     y=df_i['rate_bio']\n",
    "#     ax1.plot(x,y,label=str(bionrn),marker='o',linestyle='')\n",
    "\n",
    "heatmap=df.query('neuron==\"1\"')\n",
    "print heatmap\n",
    "heatmap=heatmap.pivot('x_0','x_1','rate_bio')\n",
    "print heatmap\n",
    "sns.heatmap(heatmap)"
   ]
  },
  {
   "cell_type": "code",
   "execution_count": null,
   "metadata": {},
   "outputs": [],
   "source": [
    "gammas = sns.load_dataset(\"gammas\")\n",
    "\n",
    "gammas.loc[0]\n",
    "\n",
    "print (type(gammas.loc[0]['timepoint']),\n",
    "type(gammas.loc[0]['ROI']),\n",
    "type(gammas.loc[0]['subject']),\n",
    "type(gammas.loc[0]['BOLD signal']))\n",
    "\n",
    "figure1,ax1=plt.subplots(1,1)\n",
    "# sns.boxplot(x='x_dot_e_bin',y='rate_bio',hue='neuron',data=df)\n",
    "sns.tsplot(time=\"timepoint\",value=\"BOLD signal\",unit='subject',condition='ROI',data=gammas,ax=ax1)\n",
    "ax1.set(xlabel='$t$',ylabel='BOLD')\n",
    "\n",
    "flights = sns.load_dataset(\"flights\")\n",
    "\n",
    "print flights\n",
    "\n",
    "flights = flights.pivot(\"month\", \"year\", \"passengers\")\n",
    "\n",
    "flights"
   ]
  },
  {
   "cell_type": "code",
   "execution_count": null,
   "metadata": {
    "collapsed": true
   },
   "outputs": [],
   "source": []
  }
 ],
 "metadata": {
  "kernelspec": {
   "display_name": "Python 2",
   "language": "python",
   "name": "python2"
  },
  "language_info": {
   "codemirror_mode": {
    "name": "ipython",
    "version": 2
   },
   "file_extension": ".py",
   "mimetype": "text/x-python",
   "name": "python",
   "nbconvert_exporter": "python",
   "pygments_lexer": "ipython2",
   "version": "2.7.9"
  }
 },
 "nbformat": 4,
 "nbformat_minor": 2
}
